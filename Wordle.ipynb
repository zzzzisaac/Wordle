{
 "cells": [
  {
   "cell_type": "markdown",
   "metadata": {},
   "source": [
    "# Finding the best word for at least 1 correctly positioned letter in Wordle - 31 Jan 2022"
   ]
  },
  {
   "cell_type": "markdown",
   "metadata": {},
   "source": [
    "This write-up continues from the R analysis of the same title. We are now using Python to compute the best word as R takes too long. First, we import the csv file."
   ]
  },
  {
   "cell_type": "code",
   "execution_count": 33,
   "metadata": {},
   "outputs": [],
   "source": [
    "import csv\n",
    "\n",
    "word_list = []\n",
    "with open('valid_guesses.csv') as csvfile:\n",
    "    spamreader = csv.reader(csvfile, delimiter=' ')\n",
    "    for row in spamreader:\n",
    "        word_list = word_list + row\n",
    "\n",
    "word_list = word_list[1:]"
   ]
  },
  {
   "cell_type": "markdown",
   "metadata": {},
   "source": [
    "Similar to the code in R, for each guess word, we will store the number of solutions that give 1 correctly positioned letter in the list 'counts'."
   ]
  },
  {
   "cell_type": "code",
   "execution_count": 34,
   "metadata": {},
   "outputs": [],
   "source": [
    "counts = len(word_list)*[0]\n",
    "\n",
    "for guess in range(len(word_list)):\n",
    "    count = 0\n",
    "    for solution in range(len(word_list)):\n",
    "        out = not ((word_list[guess][0] != word_list[solution][0])*\n",
    "         (word_list[guess][1] != word_list[solution][1])*\n",
    "         (word_list[guess][2] != word_list[solution][2])*\n",
    "         (word_list[guess][3] != word_list[solution][3])*\n",
    "         (word_list[guess][4] != word_list[solution][4]))\n",
    "        count += out\n",
    "    counts[guess] = count"
   ]
  },
  {
   "cell_type": "markdown",
   "metadata": {},
   "source": [
    "Finally, we find the max value in 'counts' and check that the word that gave the max value is SORES."
   ]
  },
  {
   "cell_type": "code",
   "execution_count": 35,
   "metadata": {},
   "outputs": [
    {
     "name": "stdout",
     "output_type": "stream",
     "text": [
      "7028\n",
      "sores\n"
     ]
    }
   ],
   "source": [
    "print(max(counts))\n",
    "print(word_list[counts.index(7028)])"
   ]
  }
 ],
 "metadata": {
  "kernelspec": {
   "display_name": "Python 3",
   "language": "python",
   "name": "python3"
  },
  "language_info": {
   "codemirror_mode": {
    "name": "ipython",
    "version": 3
   },
   "file_extension": ".py",
   "mimetype": "text/x-python",
   "name": "python",
   "nbconvert_exporter": "python",
   "pygments_lexer": "ipython3",
   "version": "3.8.5"
  }
 },
 "nbformat": 4,
 "nbformat_minor": 4
}
